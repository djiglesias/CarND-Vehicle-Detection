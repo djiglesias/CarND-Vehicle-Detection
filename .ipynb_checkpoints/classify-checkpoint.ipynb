{
 "cells": [
  {
   "cell_type": "markdown",
   "metadata": {},
   "source": [
    "# Project 5: Vehicle Detection Classifiers"
   ]
  },
  {
   "cell_type": "markdown",
   "metadata": {},
   "source": [
    "## 1.0 Load Data Set"
   ]
  },
  {
   "cell_type": "code",
   "execution_count": 109,
   "metadata": {},
   "outputs": [],
   "source": [
    "import matplotlib.image as mpimg\n",
    "import matplotlib.pyplot as plt\n",
    "import numpy as np\n",
    "import cv2\n",
    "import glob\n",
    "import time\n",
    "import pickle\n",
    "from sklearn.svm import LinearSVC\n",
    "from sklearn.preprocessing import StandardScaler\n",
    "from skimage.feature import hog\n",
    "from sklearn.cross_validation import train_test_split\n",
    "\n",
    "from main.utils import *\n",
    "\n",
    "%matplotlib inline\n",
    "    \n",
    "    \n",
    "# Read in cars and notcars.\n",
    "#cars = glob.glob('data/vehicles_smallset/*/*.jpeg')\n",
    "#notcars = glob.glob('data/non-vehicles_smallset/*/*.jpeg')\n",
    "cars = glob.glob('data/vehicles/*/*.png')\n",
    "notcars = glob.glob('data/non-vehicles/*/*.png')"
   ]
  },
  {
   "cell_type": "markdown",
   "metadata": {},
   "source": [
    "## 2.0 Extract Features"
   ]
  },
  {
   "cell_type": "code",
   "execution_count": 110,
   "metadata": {},
   "outputs": [
    {
     "name": "stdout",
     "output_type": "stream",
     "text": [
      "Complete\n"
     ]
    }
   ],
   "source": [
    "# Set parameters for feature detection.\n",
    "color_space = 'YUV' # Can be RGB, HSV, LUV, HLS, YUV, YCrCb\n",
    "orient = 11  # HOG orientations\n",
    "pix_per_cell = 16 # HOG pixels per cell\n",
    "cell_per_block = 2 # HOG cells per block\n",
    "hog_channel = 'ALL' # Can be 0, 1, 2, or \"ALL\"\n",
    "spatial_size = (16, 16) # Spatial binning dimensions\n",
    "hist_bins = 8    # Number of histogram bins\n",
    "spatial_feat = True # Spatial features on or off\n",
    "hist_feat = True # Histogram features on or off\n",
    "hog_feat = True # HOG features on or off\n",
    "\n",
    "# Extract features from images.\n",
    "car_features = extract_features(cars, color_space=color_space, \n",
    "                        spatial_size=spatial_size, hist_bins=hist_bins, \n",
    "                        orient=orient, pix_per_cell=pix_per_cell, \n",
    "                        cell_per_block=cell_per_block, \n",
    "                        hog_channel=hog_channel, spatial_feat=spatial_feat, \n",
    "                        hist_feat=hist_feat, hog_feat=hog_feat)\n",
    "\n",
    "notcar_features = extract_features(notcars, color_space=color_space, \n",
    "                        spatial_size=spatial_size, hist_bins=hist_bins, \n",
    "                        orient=orient, pix_per_cell=pix_per_cell, \n",
    "                        cell_per_block=cell_per_block, \n",
    "                        hog_channel=hog_channel, spatial_feat=spatial_feat, \n",
    "                        hist_feat=hist_feat, hog_feat=hog_feat)\n",
    "\n",
    "# Normalize features.\n",
    "X = np.vstack((car_features, notcar_features)).astype(np.float64)                        \n",
    "X_scaler = StandardScaler().fit(X)\n",
    "scaled_X = X_scaler.transform(X)\n",
    "\n",
    "# Define the labels vector.\n",
    "y = np.hstack((np.ones(len(car_features)), np.zeros(len(notcar_features))))\n",
    "\n",
    "# Split up data into randomized training and test sets.\n",
    "rand_state = np.random.randint(0, 100)\n",
    "X_train, X_test, y_train, y_test = train_test_split(\n",
    "    scaled_X, y, test_size=0.2, random_state=rand_state)\n",
    "\n",
    "print(\"Complete\")"
   ]
  },
  {
   "cell_type": "markdown",
   "metadata": {},
   "source": [
    "## 3.0 Train Classifier"
   ]
  },
  {
   "cell_type": "code",
   "execution_count": 111,
   "metadata": {},
   "outputs": [
    {
     "name": "stdout",
     "output_type": "stream",
     "text": [
      "Test Accuracy of SVC =  0.9879\n"
     ]
    }
   ],
   "source": [
    "# Train a classifier on the data.\n",
    "svc = LinearSVC()\n",
    "svc.fit(X_train, y_train)\n",
    "\n",
    "# Check the score of the SVC\n",
    "print('Test Accuracy of SVC = ', round(svc.score(X_test, y_test), 4))\n",
    "\n",
    "# Save pickle file.\n",
    "dist_pickle = dict()\n",
    "dist_pickle[\"svc\"] = svc\n",
    "dist_pickle[\"scaler\"] = X_scaler\n",
    "dist_pickle[\"orient\"] = orient \n",
    "dist_pickle[\"pix_per_cell\"] = pix_per_cell\n",
    "dist_pickle[\"cell_per_block\"] = cell_per_block\n",
    "dist_pickle[\"spatial_size\"] = spatial_size\n",
    "dist_pickle[\"hist_bins\"] = hist_bins\n",
    "\n",
    "pickle.dump(dist_pickle, open(\"svc_pickle.p\", \"wb\"))"
   ]
  },
  {
   "cell_type": "markdown",
   "metadata": {},
   "source": [
    "## 4.0 Car Class"
   ]
  },
  {
   "cell_type": "code",
   "execution_count": 112,
   "metadata": {},
   "outputs": [],
   "source": [
    "class VehicleTracker:\n",
    "    def __init__(self):\n",
    "        self.rects = []\n",
    "        self.buffer = 5\n",
    "        self.cap = 15\n",
    "        \n",
    "    def add_frame(self, rects):\n",
    "        self.rects.append(rects)\n",
    "        if len(self.rects) > self.cap:\n",
    "            self.rects.pop(0)"
   ]
  },
  {
   "cell_type": "markdown",
   "metadata": {},
   "source": [
    "## 5.0 Pipeline (Video)"
   ]
  },
  {
   "cell_type": "code",
   "execution_count": 113,
   "metadata": {},
   "outputs": [],
   "source": [
    "def pipeline(image):\n",
    "    \n",
    "    # Load test image.\n",
    "    #image = image.astype(np.float32)/255\n",
    "    draw_image = np.copy(image)\n",
    "    heat = np.zeros_like(image[:,:,0]).astype(np.float)\n",
    "    rects = []\n",
    "    \n",
    "    # Parameters.\n",
    "    ystart, ystop = 400, 464 \n",
    "    scale = 1.0\n",
    "    rects.append(find_cars(draw_image, ystart, ystop, scale, svc, X_scaler, orient, pix_per_cell, cell_per_block, spatial_size, hist_bins))\n",
    "    \n",
    "    ystart, ystop = 400, 550 \n",
    "    scale = 1.5\n",
    "    rects.append(find_cars(draw_image, ystart, ystop, scale, svc, X_scaler, orient, pix_per_cell, cell_per_block, spatial_size, hist_bins))\n",
    "\n",
    "    ystart, ystop = 400, 600 \n",
    "    scale = 2.0\n",
    "    rects.append(find_cars(draw_image, ystart, ystop, scale, svc, X_scaler, orient, pix_per_cell, cell_per_block, spatial_size, hist_bins))\n",
    "\n",
    "    ystart, ystop = 400, 600 \n",
    "    scale = 2.5\n",
    "    rects.append(find_cars(draw_image, ystart, ystop, scale, svc, X_scaler, orient, pix_per_cell, cell_per_block, spatial_size, hist_bins))\n",
    "\n",
    "    ystart, ystop = 400, 640 \n",
    "    scale = 3.0\n",
    "    rects.append(find_cars(draw_image, ystart, ystop, scale, svc, X_scaler, orient, pix_per_cell, cell_per_block, spatial_size, hist_bins))\n",
    "\n",
    "    ystart, ystop = 400, 640 \n",
    "    scale = 3.5\n",
    "    rects.append(find_cars(draw_image, ystart, ystop, scale, svc, X_scaler, orient, pix_per_cell, cell_per_block, spatial_size, hist_bins))\n",
    "\n",
    "    rects = [item for sublist in rects for item in sublist]\n",
    "    \n",
    "    # Update detection.\n",
    "    if len(rects) > 0:\n",
    "        tracker.add_frame(rects)\n",
    "    \n",
    "    # Update label sets.\n",
    "    for rect_set in tracker.rects:\n",
    "        heat = add_heat(heat, rect_set)\n",
    "        \n",
    "    if len(tracker.rects) < tracker.buffer:\n",
    "        heat = apply_threshold(heat, tracker.buffer)\n",
    "    else:\n",
    "        heat = apply_threshold(heat, len(tracker.rects))\n",
    "     \n",
    "    labels = label(heat)\n",
    "    draw_img = draw_labeled_bboxes(np.copy(image), labels)\n",
    "    \n",
    "    return draw_img"
   ]
  },
  {
   "cell_type": "markdown",
   "metadata": {},
   "source": [
    "## 6.0 Process Video Frames"
   ]
  },
  {
   "cell_type": "code",
   "execution_count": 114,
   "metadata": {},
   "outputs": [
    {
     "name": "stdout",
     "output_type": "stream",
     "text": [
      "[MoviePy] >>>> Building video res/project_video_out.mp4\n",
      "[MoviePy] Writing video res/project_video_out.mp4\n"
     ]
    },
    {
     "name": "stderr",
     "output_type": "stream",
     "text": [
      "100%|█████████▉| 1260/1261 [06:53<00:00,  2.97it/s]\n"
     ]
    },
    {
     "name": "stdout",
     "output_type": "stream",
     "text": [
      "[MoviePy] Done.\n",
      "[MoviePy] >>>> Video ready: res/project_video_out.mp4 \n",
      "\n",
      "CPU times: user 6min 54s, sys: 3.23 s, total: 6min 57s\n",
      "Wall time: 6min 55s\n"
     ]
    }
   ],
   "source": [
    "from moviepy.editor import VideoFileClip\n",
    "\n",
    "tracker = VehicleTracker()\n",
    "\n",
    "test_out_file = 'res/project_video_out.mp4'\n",
    "clip_test = VideoFileClip('res/project_video.mp4')\n",
    "clip_test_out = clip_test.fl_image(pipeline)\n",
    "%time clip_test_out.write_videofile(test_out_file, audio=False)"
   ]
  }
 ],
 "metadata": {
  "kernelspec": {
   "display_name": "Python 3",
   "language": "python",
   "name": "python3"
  },
  "language_info": {
   "codemirror_mode": {
    "name": "ipython",
    "version": 3
   },
   "file_extension": ".py",
   "mimetype": "text/x-python",
   "name": "python",
   "nbconvert_exporter": "python",
   "pygments_lexer": "ipython3",
   "version": "3.5.2"
  },
  "widgets": {
   "state": {},
   "version": "1.1.2"
  }
 },
 "nbformat": 4,
 "nbformat_minor": 2
}
